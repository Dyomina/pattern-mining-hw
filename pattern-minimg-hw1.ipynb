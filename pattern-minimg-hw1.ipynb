{
 "cells": [
  {
   "cell_type": "markdown",
   "metadata": {},
   "source": [
    "# Pattern Mining - Домашнее Задание №1\n",
    "### Выполнила Ирина Дёмина \n",
    "\n",
    "[Ссылка на текст задания](https://www.dropbox.com/s/niz1ncvssewokxl/HW_FIM_FCA.pdf?dl=0)\n",
    "\n",
    "Задание 1а:"
   ]
  },
  {
   "cell_type": "markdown",
   "metadata": {},
   "source": [
    "<img src = './images/problem-set-1a-text.png'>"
   ]
  },
  {
   "cell_type": "code",
   "execution_count": 1,
   "metadata": {
    "collapsed": true
   },
   "outputs": [],
   "source": [
    "import numpy as np\n",
    "import pandas as pd\n",
    "import matplotlib.pyplot as plt"
   ]
  },
  {
   "cell_type": "code",
   "execution_count": 2,
   "metadata": {
    "collapsed": false
   },
   "outputs": [],
   "source": [
    "data = pd.read_table('./data/a.txt')"
   ]
  },
  {
   "cell_type": "code",
   "execution_count": 3,
   "metadata": {
    "collapsed": false
   },
   "outputs": [
    {
     "data": {
      "text/html": [
       "<div>\n",
       "<table border=\"1\" class=\"dataframe\">\n",
       "  <thead>\n",
       "    <tr style=\"text-align: right;\">\n",
       "      <th></th>\n",
       "      <th>12a1970 lexmark</th>\n",
       "      <th>2 stacker</th>\n",
       "      <th>21 black jack</th>\n",
       "      <th>2nd mortgage</th>\n",
       "      <th>acapulco hotel</th>\n",
       "      <th>accept account card credit merchant</th>\n",
       "      <th>accept card credit</th>\n",
       "      <th>accept card credit online</th>\n",
       "      <th>accessory computer</th>\n",
       "      <th>accessory desk</th>\n",
       "      <th>...</th>\n",
       "      <th>woman</th>\n",
       "      <th>work home</th>\n",
       "      <th>xenadrine</th>\n",
       "      <th>xenical</th>\n",
       "      <th>xenical on line</th>\n",
       "      <th>xxx</th>\n",
       "      <th>yohimbe</th>\n",
       "      <th>yukon</th>\n",
       "      <th>zinc</th>\n",
       "      <th>zyban</th>\n",
       "    </tr>\n",
       "  </thead>\n",
       "  <tbody>\n",
       "    <tr>\n",
       "      <th>0</th>\n",
       "      <td>0</td>\n",
       "      <td>0</td>\n",
       "      <td>0</td>\n",
       "      <td>0</td>\n",
       "      <td>0</td>\n",
       "      <td>0</td>\n",
       "      <td>0</td>\n",
       "      <td>0</td>\n",
       "      <td>0</td>\n",
       "      <td>0</td>\n",
       "      <td>...</td>\n",
       "      <td>0</td>\n",
       "      <td>1</td>\n",
       "      <td>0</td>\n",
       "      <td>0</td>\n",
       "      <td>0</td>\n",
       "      <td>0</td>\n",
       "      <td>0</td>\n",
       "      <td>0</td>\n",
       "      <td>0</td>\n",
       "      <td>0</td>\n",
       "    </tr>\n",
       "    <tr>\n",
       "      <th>1</th>\n",
       "      <td>0</td>\n",
       "      <td>0</td>\n",
       "      <td>0</td>\n",
       "      <td>0</td>\n",
       "      <td>0</td>\n",
       "      <td>0</td>\n",
       "      <td>0</td>\n",
       "      <td>0</td>\n",
       "      <td>0</td>\n",
       "      <td>0</td>\n",
       "      <td>...</td>\n",
       "      <td>0</td>\n",
       "      <td>0</td>\n",
       "      <td>0</td>\n",
       "      <td>0</td>\n",
       "      <td>0</td>\n",
       "      <td>0</td>\n",
       "      <td>0</td>\n",
       "      <td>0</td>\n",
       "      <td>0</td>\n",
       "      <td>0</td>\n",
       "    </tr>\n",
       "    <tr>\n",
       "      <th>2</th>\n",
       "      <td>0</td>\n",
       "      <td>0</td>\n",
       "      <td>0</td>\n",
       "      <td>0</td>\n",
       "      <td>0</td>\n",
       "      <td>0</td>\n",
       "      <td>0</td>\n",
       "      <td>0</td>\n",
       "      <td>0</td>\n",
       "      <td>0</td>\n",
       "      <td>...</td>\n",
       "      <td>0</td>\n",
       "      <td>0</td>\n",
       "      <td>0</td>\n",
       "      <td>0</td>\n",
       "      <td>0</td>\n",
       "      <td>0</td>\n",
       "      <td>0</td>\n",
       "      <td>0</td>\n",
       "      <td>0</td>\n",
       "      <td>0</td>\n",
       "    </tr>\n",
       "    <tr>\n",
       "      <th>3</th>\n",
       "      <td>0</td>\n",
       "      <td>0</td>\n",
       "      <td>0</td>\n",
       "      <td>0</td>\n",
       "      <td>0</td>\n",
       "      <td>0</td>\n",
       "      <td>0</td>\n",
       "      <td>0</td>\n",
       "      <td>0</td>\n",
       "      <td>0</td>\n",
       "      <td>...</td>\n",
       "      <td>0</td>\n",
       "      <td>1</td>\n",
       "      <td>0</td>\n",
       "      <td>0</td>\n",
       "      <td>0</td>\n",
       "      <td>0</td>\n",
       "      <td>0</td>\n",
       "      <td>0</td>\n",
       "      <td>0</td>\n",
       "      <td>0</td>\n",
       "    </tr>\n",
       "    <tr>\n",
       "      <th>4</th>\n",
       "      <td>0</td>\n",
       "      <td>0</td>\n",
       "      <td>0</td>\n",
       "      <td>0</td>\n",
       "      <td>0</td>\n",
       "      <td>0</td>\n",
       "      <td>0</td>\n",
       "      <td>0</td>\n",
       "      <td>0</td>\n",
       "      <td>0</td>\n",
       "      <td>...</td>\n",
       "      <td>0</td>\n",
       "      <td>0</td>\n",
       "      <td>0</td>\n",
       "      <td>0</td>\n",
       "      <td>0</td>\n",
       "      <td>0</td>\n",
       "      <td>0</td>\n",
       "      <td>0</td>\n",
       "      <td>0</td>\n",
       "      <td>0</td>\n",
       "    </tr>\n",
       "  </tbody>\n",
       "</table>\n",
       "<p>5 rows × 3000 columns</p>\n",
       "</div>"
      ],
      "text/plain": [
       "   12a1970 lexmark  2 stacker  21 black jack  2nd mortgage  acapulco hotel  \\\n",
       "0                0          0              0             0               0   \n",
       "1                0          0              0             0               0   \n",
       "2                0          0              0             0               0   \n",
       "3                0          0              0             0               0   \n",
       "4                0          0              0             0               0   \n",
       "\n",
       "   accept account card credit merchant  accept card credit  \\\n",
       "0                                    0                   0   \n",
       "1                                    0                   0   \n",
       "2                                    0                   0   \n",
       "3                                    0                   0   \n",
       "4                                    0                   0   \n",
       "\n",
       "   accept card credit online  accessory computer  accessory desk  ...    \\\n",
       "0                          0                   0               0  ...     \n",
       "1                          0                   0               0  ...     \n",
       "2                          0                   0               0  ...     \n",
       "3                          0                   0               0  ...     \n",
       "4                          0                   0               0  ...     \n",
       "\n",
       "   woman  work home  xenadrine  xenical  xenical on line  xxx  yohimbe  yukon  \\\n",
       "0      0          1          0        0                0    0        0      0   \n",
       "1      0          0          0        0                0    0        0      0   \n",
       "2      0          0          0        0                0    0        0      0   \n",
       "3      0          1          0        0                0    0        0      0   \n",
       "4      0          0          0        0                0    0        0      0   \n",
       "\n",
       "   zinc  zyban  \n",
       "0     0      0  \n",
       "1     0      0  \n",
       "2     0      0  \n",
       "3     0      0  \n",
       "4     0      0  \n",
       "\n",
       "[5 rows x 3000 columns]"
      ]
     },
     "execution_count": 3,
     "metadata": {},
     "output_type": "execute_result"
    }
   ],
   "source": [
    "data.head()"
   ]
  },
  {
   "cell_type": "code",
   "execution_count": 4,
   "metadata": {
    "collapsed": false
   },
   "outputs": [
    {
     "name": "stdout",
     "output_type": "stream",
     "text": [
      "ad banner\n",
      "ad personal\n",
      "add url\n",
      "address internet\n",
      "address web\n",
      "adds personal\n",
      "adipex\n",
      "adipex buy\n",
      "adipex buy online\n",
      "adipex cheap\n",
      "adipex diet\n",
      "adipex diet pill\n",
      "adipex line\n",
      "adipex online\n",
      "adipex online order\n",
      "adipex online prescription\n",
      "adipex order\n",
      "adipex p\n",
      "adipex phentermine\n",
      "adipex prescription\n"
     ]
    }
   ],
   "source": [
    "# Заголовки массива - это конкретные наборы слов объявлений, например:\n",
    "\n",
    "for col in data.columns[30:50]:\n",
    "    print(col)"
   ]
  },
  {
   "cell_type": "code",
   "execution_count": 5,
   "metadata": {
    "collapsed": false
   },
   "outputs": [
    {
     "data": {
      "image/png": "[encoded data removed]",
      "text/plain": [
       "<matplotlib.figure.Figure at 0x10faeabe0>"
      ]
     },
     "metadata": {},
     "output_type": "display_data"
    }
   ],
   "source": [
    "# Отдельные наборы/объявления построены на небольших словосочетаниях\n",
    "# Не более 6 слов, большинство состоят из 2-3 слов\n",
    "\n",
    "index = np.array(data.columns)\n",
    "max_len = 0\n",
    "index_len = []\n",
    "for ind in index:\n",
    "    ind_len = len(ind.split())\n",
    "    index_len.append(ind_len)\n",
    "    if ind_len > max_len:\n",
    "        max_len = ind_len\n",
    "        \n",
    "plt.hist(index_len, bins=50, orientation='horizontal')\n",
    "plt.show()"
   ]
  },
  {
   "cell_type": "code",
   "execution_count": 6,
   "metadata": {
    "collapsed": false
   },
   "outputs": [
    {
     "data": {
      "image/png": "[encoded data removed]",
      "text/plain": [
       "<matplotlib.figure.Figure at 0x10d79e048>"
      ]
     },
     "metadata": {},
     "output_type": "display_data"
    }
   ],
   "source": [
    "# Общее число словосочетаний каждого рекламодателя (привожу от 0 до 50 для наглядности).\n",
    "\n",
    "plt.hist(np.sum(data, axis=1), bins=50, range=(0, 50))\n",
    "plt.show()"
   ]
  },
  {
   "cell_type": "code",
   "execution_count": 7,
   "metadata": {
    "collapsed": false
   },
   "outputs": [
    {
     "data": {
      "text/plain": [
       "947"
      ]
     },
     "execution_count": 7,
     "metadata": {},
     "output_type": "execute_result"
    }
   ],
   "source": [
    "# Максимальное число различных наборов слов одного рекламодателя = 947\n",
    "\n",
    "max(np.sum(data, axis=1))"
   ]
  },
  {
   "cell_type": "code",
   "execution_count": 8,
   "metadata": {
    "collapsed": true
   },
   "outputs": [],
   "source": [
    "def combine_campaings_per_firm_np(dataframe):\n",
    "    prct = 0.0\n",
    "    data = np.array(dataframe)\n",
    "    max_row = data.shape[0]\n",
    "    max_range = data.shape[1]\n",
    "    output = []\n",
    "    for row in range(max_row):\n",
    "#         if row%(max_row//10) == 0:\n",
    "#             print('{0:.2f}% done'.format(prct))\n",
    "#             prct += 10.0\n",
    "        row_summary = []\n",
    "        for col in range(max_range):\n",
    "            if data[row, col] == 1:\n",
    "                row_summary.append(col)\n",
    "        output.append(row_summary)\n",
    "    return output"
   ]
  },
  {
   "cell_type": "code",
   "execution_count": 9,
   "metadata": {
    "collapsed": false
   },
   "outputs": [
    {
     "name": "stdout",
     "output_type": "stream",
     "text": [
      "CPU times: user 2.67 s, sys: 27.3 ms, total: 2.7 s\n",
      "Wall time: 2.7 s\n"
     ]
    }
   ],
   "source": [
    "%%time\n",
    "\n",
    "# Конверсия данных в формат SPMF: каждая строка - положительные целые числа,\n",
    "# упорядоченные по ворастанию\n",
    "\n",
    "new_data = combine_campaings_per_firm_np(data)"
   ]
  },
  {
   "cell_type": "code",
   "execution_count": 10,
   "metadata": {
    "collapsed": false
   },
   "outputs": [],
   "source": [
    "# Записываем для работы в SPMF один раз\n",
    "\n",
    "# f = open('./data/SPMF-input-1.txt', mode='w')\n",
    "# for line in new_data:\n",
    "#     f.write(str(line).strip('[]') + '\\n')\n",
    "# f.close()"
   ]
  },
  {
   "cell_type": "code",
   "execution_count": 11,
   "metadata": {
    "collapsed": false
   },
   "outputs": [],
   "source": [
    "# Читаем аутпут из SPMF\n",
    "\n",
    "f = open('./data/SPMF-ouptut-1a.txt', mode='r')\n",
    "result_1a = []\n",
    "result_1a = f.read().splitlines()\n",
    "f.close()"
   ]
  },
  {
   "cell_type": "markdown",
   "metadata": {},
   "source": [
    "# Ответ на задание 1-а"
   ]
  },
  {
   "cell_type": "code",
   "execution_count": 12,
   "metadata": {
    "collapsed": false
   },
   "outputs": [
    {
     "data": {
      "text/plain": [
       "17409"
      ]
     },
     "execution_count": 12,
     "metadata": {},
     "output_type": "execute_result"
    }
   ],
   "source": [
    "len(result_1a)"
   ]
  },
  {
   "cell_type": "markdown",
   "metadata": {},
   "source": [
    "<img src = './images/SPMF-result-1a.png'>"
   ]
  },
  {
   "cell_type": "markdown",
   "metadata": {},
   "source": [
    "**Опционально** \n",
    "\n",
    "Хотя на Piazza уже обсуждалось, что наборов с числом словосоветаний > 20 c заданной поддержкой нет.  У меня получился такой же результат - максимум 9.  Я хотела так же посмотреть на набор уникальных слов в наборе словосочетаний."
   ]
  },
  {
   "cell_type": "code",
   "execution_count": 13,
   "metadata": {
    "collapsed": false
   },
   "outputs": [],
   "source": [
    "result1a_array = []\n",
    "for entry in result_1a:\n",
    "    if ',:' in entry:\n",
    "        delim = entry.find(',:')\n",
    "        key = entry[:delim]\n",
    "        value = entry[delim + 2:]\n",
    "    else:\n",
    "        delim = entry.find(':')\n",
    "        key = entry[:delim]\n",
    "        value = entry[delim + 1:]\n",
    "    key_len = len(key.split(', '))\n",
    "    entry_list = [str(key), key_len, int(value)]\n",
    "    result1a_array.append(entry_list)"
   ]
  },
  {
   "cell_type": "code",
   "execution_count": 14,
   "metadata": {
    "collapsed": false,
    "scrolled": true
   },
   "outputs": [
    {
     "data": {
      "text/html": [
       "<div>\n",
       "<table border=\"1\" class=\"dataframe\">\n",
       "  <thead>\n",
       "    <tr style=\"text-align: right;\">\n",
       "      <th></th>\n",
       "      <th>key</th>\n",
       "      <th>key_len</th>\n",
       "      <th>sup</th>\n",
       "    </tr>\n",
       "  </thead>\n",
       "  <tbody>\n",
       "    <tr>\n",
       "      <th>3242</th>\n",
       "      <td>1016, 998, 1001, 989, 1011, 1888, 995, 1021, 1906</td>\n",
       "      <td>9</td>\n",
       "      <td>36</td>\n",
       "    </tr>\n",
       "    <tr>\n",
       "      <th>3413</th>\n",
       "      <td>1016, 1019, 998, 1001, 989, 1011, 1888, 1906, ...</td>\n",
       "      <td>9</td>\n",
       "      <td>35</td>\n",
       "    </tr>\n",
       "    <tr>\n",
       "      <th>3417</th>\n",
       "      <td>1016, 1019, 998, 1001, 989, 1011, 995, 1021, 1906</td>\n",
       "      <td>9</td>\n",
       "      <td>36</td>\n",
       "    </tr>\n",
       "    <tr>\n",
       "      <th>3610</th>\n",
       "      <td>1016, 1019, 1001, 989, 1011, 1888, 995, 1021, ...</td>\n",
       "      <td>9</td>\n",
       "      <td>37</td>\n",
       "    </tr>\n",
       "    <tr>\n",
       "      <th>13955</th>\n",
       "      <td>998, 989, 1011, 1888, 969, 1882, 995, 1021, 1906</td>\n",
       "      <td>9</td>\n",
       "      <td>36</td>\n",
       "    </tr>\n",
       "    <tr>\n",
       "      <th>14137</th>\n",
       "      <td>998, 1001, 989, 1011, 1888, 969, 995, 1021, 1906</td>\n",
       "      <td>9</td>\n",
       "      <td>35</td>\n",
       "    </tr>\n",
       "    <tr>\n",
       "      <th>14744</th>\n",
       "      <td>1001, 989, 1011, 1888, 969, 1882, 995, 1021, 1906</td>\n",
       "      <td>9</td>\n",
       "      <td>37</td>\n",
       "    </tr>\n",
       "  </tbody>\n",
       "</table>\n",
       "</div>"
      ],
      "text/plain": [
       "                                                     key  key_len  sup\n",
       "3242   1016, 998, 1001, 989, 1011, 1888, 995, 1021, 1906        9   36\n",
       "3413   1016, 1019, 998, 1001, 989, 1011, 1888, 1906, ...        9   35\n",
       "3417   1016, 1019, 998, 1001, 989, 1011, 995, 1021, 1906        9   36\n",
       "3610   1016, 1019, 1001, 989, 1011, 1888, 995, 1021, ...        9   37\n",
       "13955   998, 989, 1011, 1888, 969, 1882, 995, 1021, 1906        9   36\n",
       "14137   998, 1001, 989, 1011, 1888, 969, 995, 1021, 1906        9   35\n",
       "14744  1001, 989, 1011, 1888, 969, 1882, 995, 1021, 1906        9   37"
      ]
     },
     "execution_count": 14,
     "metadata": {},
     "output_type": "execute_result"
    }
   ],
   "source": [
    "result1a_df = pd.DataFrame(result1a_array, columns=['key', 'key_len', 'sup'])\n",
    "result1a_df[result1a_df['key_len'] > 8]"
   ]
  },
  {
   "cell_type": "code",
   "execution_count": 15,
   "metadata": {
    "collapsed": false
   },
   "outputs": [
    {
     "data": {
      "text/html": [
       "<div>\n",
       "<table border=\"1\" class=\"dataframe\">\n",
       "  <thead>\n",
       "    <tr style=\"text-align: right;\">\n",
       "      <th></th>\n",
       "      <th>key_len</th>\n",
       "      <th>sup</th>\n",
       "    </tr>\n",
       "  </thead>\n",
       "  <tbody>\n",
       "    <tr>\n",
       "      <th>count</th>\n",
       "      <td>17409.000000</td>\n",
       "      <td>17409.000000</td>\n",
       "    </tr>\n",
       "    <tr>\n",
       "      <th>mean</th>\n",
       "      <td>3.912000</td>\n",
       "      <td>39.645011</td>\n",
       "    </tr>\n",
       "    <tr>\n",
       "      <th>std</th>\n",
       "      <td>1.434043</td>\n",
       "      <td>7.213015</td>\n",
       "    </tr>\n",
       "    <tr>\n",
       "      <th>min</th>\n",
       "      <td>1.000000</td>\n",
       "      <td>35.000000</td>\n",
       "    </tr>\n",
       "    <tr>\n",
       "      <th>25%</th>\n",
       "      <td>3.000000</td>\n",
       "      <td>36.000000</td>\n",
       "    </tr>\n",
       "    <tr>\n",
       "      <th>50%</th>\n",
       "      <td>4.000000</td>\n",
       "      <td>37.000000</td>\n",
       "    </tr>\n",
       "    <tr>\n",
       "      <th>75%</th>\n",
       "      <td>5.000000</td>\n",
       "      <td>41.000000</td>\n",
       "    </tr>\n",
       "    <tr>\n",
       "      <th>max</th>\n",
       "      <td>9.000000</td>\n",
       "      <td>159.000000</td>\n",
       "    </tr>\n",
       "  </tbody>\n",
       "</table>\n",
       "</div>"
      ],
      "text/plain": [
       "            key_len           sup\n",
       "count  17409.000000  17409.000000\n",
       "mean       3.912000     39.645011\n",
       "std        1.434043      7.213015\n",
       "min        1.000000     35.000000\n",
       "25%        3.000000     36.000000\n",
       "50%        4.000000     37.000000\n",
       "75%        5.000000     41.000000\n",
       "max        9.000000    159.000000"
      ]
     },
     "execution_count": 15,
     "metadata": {},
     "output_type": "execute_result"
    }
   ],
   "source": [
    "result1a_df.describe()"
   ]
  },
  {
   "cell_type": "code",
   "execution_count": 18,
   "metadata": {
    "collapsed": false
   },
   "outputs": [
    {
     "data": {
      "image/png": "[encoded data removed]",
      "text/plain": [
       "<matplotlib.figure.Figure at 0x110620550>"
      ]
     },
     "metadata": {},
     "output_type": "display_data"
    }
   ],
   "source": [
    "# Большинство частых наборов (с заданной минимальной поддержкой)\n",
    "# содержат 3-5 словосочетаний\n",
    "\n",
    "plt.hist(result1a_df['key_len'], bins=9)\n",
    "plt.show()"
   ]
  },
  {
   "cell_type": "code",
   "execution_count": 19,
   "metadata": {
    "collapsed": false,
    "scrolled": false
   },
   "outputs": [],
   "source": [
    "# Чтобы посмотреть на наборы не как индексы, а наборы уникальных слов,\n",
    "# делаем обратный мэппинг: из номера в набор слов\n",
    "\n",
    "reverse_index = {}\n",
    "for key, val in enumerate(index):\n",
    "    reverse_index[key] = val"
   ]
  },
  {
   "cell_type": "code",
   "execution_count": 20,
   "metadata": {
    "collapsed": false
   },
   "outputs": [
    {
     "name": "stdout",
     "output_type": "stream",
     "text": [
      "CPU times: user 230 ms, sys: 10.6 ms, total: 241 ms\n",
      "Wall time: 240 ms\n"
     ]
    }
   ],
   "source": [
    "%%time\n",
    "\n",
    "word_based_output = []\n",
    "for entry in result1a_array:\n",
    "    new_entry = []\n",
    "    new_key = []\n",
    "    key = entry[0]\n",
    "    key = key.split(', ') \n",
    "    sup = entry[2]\n",
    "    word_list = set()\n",
    "    for k in key:\n",
    "        if ' ' in k:\n",
    "            tmp_key = k.split()\n",
    "            for tmp_k in tmp_key:\n",
    "                word_list.update(reverse_index[int(tmp_k)].split())\n",
    "                new_key.append(tmp_k)\n",
    "        else:\n",
    "            new_key.append(k)\n",
    "            word_list.update(reverse_index[int(k)].split())\n",
    "    key_len = len(new_key)\n",
    "    word_count = len(word_list)\n",
    "    new_entry = [new_key, key_len, word_list, word_count, sup]\n",
    "    word_based_output.append(new_entry)"
   ]
  },
  {
   "cell_type": "code",
   "execution_count": 21,
   "metadata": {
    "collapsed": false
   },
   "outputs": [
    {
     "data": {
      "text/html": [
       "<div>\n",
       "<table border=\"1\" class=\"dataframe\">\n",
       "  <thead>\n",
       "    <tr style=\"text-align: right;\">\n",
       "      <th></th>\n",
       "      <th>new_key</th>\n",
       "      <th>key_len</th>\n",
       "      <th>words</th>\n",
       "      <th>word_count</th>\n",
       "      <th>sup</th>\n",
       "    </tr>\n",
       "  </thead>\n",
       "  <tbody>\n",
       "    <tr>\n",
       "      <th>0</th>\n",
       "      <td>[932]</td>\n",
       "      <td>1</td>\n",
       "      <td>{hp, cartridge, printer}</td>\n",
       "      <td>3</td>\n",
       "      <td>35</td>\n",
       "    </tr>\n",
       "    <tr>\n",
       "      <th>1</th>\n",
       "      <td>[894]</td>\n",
       "      <td>1</td>\n",
       "      <td>{carrier, long, distance}</td>\n",
       "      <td>3</td>\n",
       "      <td>35</td>\n",
       "    </tr>\n",
       "    <tr>\n",
       "      <th>2</th>\n",
       "      <td>[816]</td>\n",
       "      <td>1</td>\n",
       "      <td>{cartridge, canon, printer}</td>\n",
       "      <td>3</td>\n",
       "      <td>35</td>\n",
       "    </tr>\n",
       "    <tr>\n",
       "      <th>3</th>\n",
       "      <td>[801]</td>\n",
       "      <td>1</td>\n",
       "      <td>{digital, camera}</td>\n",
       "      <td>2</td>\n",
       "      <td>35</td>\n",
       "    </tr>\n",
       "    <tr>\n",
       "      <th>4</th>\n",
       "      <td>[744]</td>\n",
       "      <td>1</td>\n",
       "      <td>{diet, pill, buy}</td>\n",
       "      <td>3</td>\n",
       "      <td>35</td>\n",
       "    </tr>\n",
       "  </tbody>\n",
       "</table>\n",
       "</div>"
      ],
      "text/plain": [
       "  new_key  key_len                        words  word_count  sup\n",
       "0   [932]        1     {hp, cartridge, printer}           3   35\n",
       "1   [894]        1    {carrier, long, distance}           3   35\n",
       "2   [816]        1  {cartridge, canon, printer}           3   35\n",
       "3   [801]        1            {digital, camera}           2   35\n",
       "4   [744]        1            {diet, pill, buy}           3   35"
      ]
     },
     "execution_count": 21,
     "metadata": {},
     "output_type": "execute_result"
    }
   ],
   "source": [
    "# Теперь можно смотреть на частые множества наборов (индексы) и \n",
    "# соответствующие им наборы уникальных слов\n",
    "\n",
    "word_based_df = pd.DataFrame(word_based_output, columns=['new_key', 'key_len', 'words', 'word_count', 'sup'])\n",
    "word_based_df.head()"
   ]
  },
  {
   "cell_type": "code",
   "execution_count": 22,
   "metadata": {
    "collapsed": false
   },
   "outputs": [
    {
     "data": {
      "text/html": [
       "<div>\n",
       "<table border=\"1\" class=\"dataframe\">\n",
       "  <thead>\n",
       "    <tr style=\"text-align: right;\">\n",
       "      <th></th>\n",
       "      <th>key_len</th>\n",
       "      <th>word_count</th>\n",
       "      <th>sup</th>\n",
       "    </tr>\n",
       "  </thead>\n",
       "  <tbody>\n",
       "    <tr>\n",
       "      <th>count</th>\n",
       "      <td>17409.000000</td>\n",
       "      <td>17409.000000</td>\n",
       "      <td>17409.000000</td>\n",
       "    </tr>\n",
       "    <tr>\n",
       "      <th>mean</th>\n",
       "      <td>3.932966</td>\n",
       "      <td>5.219312</td>\n",
       "      <td>39.645011</td>\n",
       "    </tr>\n",
       "    <tr>\n",
       "      <th>std</th>\n",
       "      <td>1.428536</td>\n",
       "      <td>1.395952</td>\n",
       "      <td>7.213015</td>\n",
       "    </tr>\n",
       "    <tr>\n",
       "      <th>min</th>\n",
       "      <td>1.000000</td>\n",
       "      <td>1.000000</td>\n",
       "      <td>35.000000</td>\n",
       "    </tr>\n",
       "    <tr>\n",
       "      <th>25%</th>\n",
       "      <td>3.000000</td>\n",
       "      <td>4.000000</td>\n",
       "      <td>36.000000</td>\n",
       "    </tr>\n",
       "    <tr>\n",
       "      <th>50%</th>\n",
       "      <td>4.000000</td>\n",
       "      <td>5.000000</td>\n",
       "      <td>37.000000</td>\n",
       "    </tr>\n",
       "    <tr>\n",
       "      <th>75%</th>\n",
       "      <td>5.000000</td>\n",
       "      <td>6.000000</td>\n",
       "      <td>41.000000</td>\n",
       "    </tr>\n",
       "    <tr>\n",
       "      <th>max</th>\n",
       "      <td>9.000000</td>\n",
       "      <td>10.000000</td>\n",
       "      <td>159.000000</td>\n",
       "    </tr>\n",
       "  </tbody>\n",
       "</table>\n",
       "</div>"
      ],
      "text/plain": [
       "            key_len    word_count           sup\n",
       "count  17409.000000  17409.000000  17409.000000\n",
       "mean       3.932966      5.219312     39.645011\n",
       "std        1.428536      1.395952      7.213015\n",
       "min        1.000000      1.000000     35.000000\n",
       "25%        3.000000      4.000000     36.000000\n",
       "50%        4.000000      5.000000     37.000000\n",
       "75%        5.000000      6.000000     41.000000\n",
       "max        9.000000     10.000000    159.000000"
      ]
     },
     "execution_count": 22,
     "metadata": {},
     "output_type": "execute_result"
    }
   ],
   "source": [
    "word_based_df.describe()"
   ]
  },
  {
   "cell_type": "code",
   "execution_count": 23,
   "metadata": {
    "collapsed": false
   },
   "outputs": [
    {
     "data": {
      "text/html": [
       "<div>\n",
       "<table border=\"1\" class=\"dataframe\">\n",
       "  <thead>\n",
       "    <tr style=\"text-align: right;\">\n",
       "      <th></th>\n",
       "      <th>new_key</th>\n",
       "      <th>key_len</th>\n",
       "      <th>words</th>\n",
       "      <th>word_count</th>\n",
       "      <th>sup</th>\n",
       "    </tr>\n",
       "  </thead>\n",
       "  <tbody>\n",
       "    <tr>\n",
       "      <th>4722</th>\n",
       "      <td>[1471, 1074, 1170, 1075, 1233, 120, 2156]</td>\n",
       "      <td>7</td>\n",
       "      <td>{cheap, affordable, web, discount, cost, servi...</td>\n",
       "      <td>10</td>\n",
       "      <td>37</td>\n",
       "    </tr>\n",
       "    <tr>\n",
       "      <th>4723</th>\n",
       "      <td>[1471, 1074, 1170, 1075, 1233, 120, 2156, 2159]</td>\n",
       "      <td>8</td>\n",
       "      <td>{cheap, affordable, web, discount, cost, servi...</td>\n",
       "      <td>10</td>\n",
       "      <td>36</td>\n",
       "    </tr>\n",
       "    <tr>\n",
       "      <th>4731</th>\n",
       "      <td>[1471, 1074, 1170, 1233, 120, 2156]</td>\n",
       "      <td>6</td>\n",
       "      <td>{cheap, affordable, web, discount, cost, servi...</td>\n",
       "      <td>10</td>\n",
       "      <td>38</td>\n",
       "    </tr>\n",
       "    <tr>\n",
       "      <th>4732</th>\n",
       "      <td>[1471, 1074, 1170, 1233, 120, 2156, 2159]</td>\n",
       "      <td>7</td>\n",
       "      <td>{cheap, affordable, web, discount, cost, servi...</td>\n",
       "      <td>10</td>\n",
       "      <td>37</td>\n",
       "    </tr>\n",
       "    <tr>\n",
       "      <th>4806</th>\n",
       "      <td>[1471, 1170, 1075, 1233, 120, 2156, 2159]</td>\n",
       "      <td>7</td>\n",
       "      <td>{cheap, affordable, web, cost, discount, servi...</td>\n",
       "      <td>10</td>\n",
       "      <td>37</td>\n",
       "    </tr>\n",
       "    <tr>\n",
       "      <th>5999</th>\n",
       "      <td>[2127, 1170, 1075, 1233, 120, 2159, 2156]</td>\n",
       "      <td>7</td>\n",
       "      <td>{cheap, affordable, web, cost, site, services,...</td>\n",
       "      <td>10</td>\n",
       "      <td>35</td>\n",
       "    </tr>\n",
       "    <tr>\n",
       "      <th>9513</th>\n",
       "      <td>[2131, 1170, 1075, 1233, 120, 2156, 2159]</td>\n",
       "      <td>7</td>\n",
       "      <td>{cheap, affordable, web, cost, services, site,...</td>\n",
       "      <td>10</td>\n",
       "      <td>35</td>\n",
       "    </tr>\n",
       "    <tr>\n",
       "      <th>9816</th>\n",
       "      <td>[1074, 1170, 2136, 1233, 120, 2156]</td>\n",
       "      <td>6</td>\n",
       "      <td>{cheap, affordable, web, cost, site, services,...</td>\n",
       "      <td>10</td>\n",
       "      <td>35</td>\n",
       "    </tr>\n",
       "    <tr>\n",
       "      <th>11252</th>\n",
       "      <td>[2144, 2154, 1170, 1233, 120, 2156, 2159]</td>\n",
       "      <td>7</td>\n",
       "      <td>{affordable, web, cost, service, services, pro...</td>\n",
       "      <td>10</td>\n",
       "      <td>35</td>\n",
       "    </tr>\n",
       "    <tr>\n",
       "      <th>11356</th>\n",
       "      <td>[2144, 1170, 1075, 1233, 120, 2156, 2159]</td>\n",
       "      <td>7</td>\n",
       "      <td>{cheap, affordable, web, cost, services, site,...</td>\n",
       "      <td>10</td>\n",
       "      <td>35</td>\n",
       "    </tr>\n",
       "    <tr>\n",
       "      <th>12084</th>\n",
       "      <td>[2130, 1170, 1075, 1233, 2159, 2156, 120]</td>\n",
       "      <td>7</td>\n",
       "      <td>{cheap, affordable, web, cost, services, inter...</td>\n",
       "      <td>10</td>\n",
       "      <td>37</td>\n",
       "    </tr>\n",
       "    <tr>\n",
       "      <th>12087</th>\n",
       "      <td>[2130, 1170, 1075, 1233, 2156, 120]</td>\n",
       "      <td>6</td>\n",
       "      <td>{cheap, affordable, web, cost, services, inter...</td>\n",
       "      <td>10</td>\n",
       "      <td>37</td>\n",
       "    </tr>\n",
       "    <tr>\n",
       "      <th>12318</th>\n",
       "      <td>[2154, 1170, 1075, 1233, 120, 2156, 2159]</td>\n",
       "      <td>7</td>\n",
       "      <td>{cheap, affordable, web, cost, service, servic...</td>\n",
       "      <td>10</td>\n",
       "      <td>38</td>\n",
       "    </tr>\n",
       "    <tr>\n",
       "      <th>14372</th>\n",
       "      <td>[1170, 1075, 688, 1233, 120, 2156, 2159]</td>\n",
       "      <td>7</td>\n",
       "      <td>{cheap, business, affordable, web, cost, servi...</td>\n",
       "      <td>10</td>\n",
       "      <td>35</td>\n",
       "    </tr>\n",
       "    <tr>\n",
       "      <th>14425</th>\n",
       "      <td>[1170, 2136, 1075, 1233, 120, 2156, 2159]</td>\n",
       "      <td>7</td>\n",
       "      <td>{cheap, affordable, web, cost, services, site,...</td>\n",
       "      <td>10</td>\n",
       "      <td>36</td>\n",
       "    </tr>\n",
       "  </tbody>\n",
       "</table>\n",
       "</div>"
      ],
      "text/plain": [
       "                                               new_key  key_len  \\\n",
       "4722         [1471, 1074, 1170, 1075, 1233, 120, 2156]        7   \n",
       "4723   [1471, 1074, 1170, 1075, 1233, 120, 2156, 2159]        8   \n",
       "4731               [1471, 1074, 1170, 1233, 120, 2156]        6   \n",
       "4732         [1471, 1074, 1170, 1233, 120, 2156, 2159]        7   \n",
       "4806         [1471, 1170, 1075, 1233, 120, 2156, 2159]        7   \n",
       "5999         [2127, 1170, 1075, 1233, 120, 2159, 2156]        7   \n",
       "9513         [2131, 1170, 1075, 1233, 120, 2156, 2159]        7   \n",
       "9816               [1074, 1170, 2136, 1233, 120, 2156]        6   \n",
       "11252        [2144, 2154, 1170, 1233, 120, 2156, 2159]        7   \n",
       "11356        [2144, 1170, 1075, 1233, 120, 2156, 2159]        7   \n",
       "12084        [2130, 1170, 1075, 1233, 2159, 2156, 120]        7   \n",
       "12087              [2130, 1170, 1075, 1233, 2156, 120]        6   \n",
       "12318        [2154, 1170, 1075, 1233, 120, 2156, 2159]        7   \n",
       "14372         [1170, 1075, 688, 1233, 120, 2156, 2159]        7   \n",
       "14425        [1170, 2136, 1075, 1233, 120, 2156, 2159]        7   \n",
       "\n",
       "                                                   words  word_count  sup  \n",
       "4722   {cheap, affordable, web, discount, cost, servi...          10   37  \n",
       "4723   {cheap, affordable, web, discount, cost, servi...          10   36  \n",
       "4731   {cheap, affordable, web, discount, cost, servi...          10   38  \n",
       "4732   {cheap, affordable, web, discount, cost, servi...          10   37  \n",
       "4806   {cheap, affordable, web, cost, discount, servi...          10   37  \n",
       "5999   {cheap, affordable, web, cost, site, services,...          10   35  \n",
       "9513   {cheap, affordable, web, cost, services, site,...          10   35  \n",
       "9816   {cheap, affordable, web, cost, site, services,...          10   35  \n",
       "11252  {affordable, web, cost, service, services, pro...          10   35  \n",
       "11356  {cheap, affordable, web, cost, services, site,...          10   35  \n",
       "12084  {cheap, affordable, web, cost, services, inter...          10   37  \n",
       "12087  {cheap, affordable, web, cost, services, inter...          10   37  \n",
       "12318  {cheap, affordable, web, cost, service, servic...          10   38  \n",
       "14372  {cheap, business, affordable, web, cost, servi...          10   35  \n",
       "14425  {cheap, affordable, web, cost, services, site,...          10   36  "
      ]
     },
     "execution_count": 23,
     "metadata": {},
     "output_type": "execute_result"
    }
   ],
   "source": [
    "# Так оказалось, что самый большой набор уникальных слов у рекламодателей из \n",
    "# сегмента вэб хостингов\n",
    "\n",
    "word_based_df[word_based_df['word_count'] > 9]"
   ]
  }
 ],
 "metadata": {
  "anaconda-cloud": {},
  "kernelspec": {
   "display_name": "Python [conda root]",
   "language": "python",
   "name": "conda-root-py"
  },
  "language_info": {
   "codemirror_mode": {
    "name": "ipython",
    "version": 3
   },
   "file_extension": ".py",
   "mimetype": "text/x-python",
   "name": "python",
   "nbconvert_exporter": "python",
   "pygments_lexer": "ipython3",
   "version": "3.5.2"
  }
 },
 "nbformat": 4,
 "nbformat_minor": 2
}
