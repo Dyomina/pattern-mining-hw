{
 "cells": [
  {
   "cell_type": "markdown",
   "metadata": {},
   "source": [
    "# Pattern Mining - Домашнее Задание №1\n",
    "### Выполнила Ирина Дёмина \n",
    "\n",
    "[Ссылка на текст задания](https://www.dropbox.com/s/niz1ncvssewokxl/HW_FIM_FCA.pdf?dl=0)\n",
    "\n",
    "Задание 1а:"
   ]
  },
  {
   "cell_type": "markdown",
   "metadata": {},
   "source": [
    "<img src = './images/problem-set-1a-text.png'>"
   ]
  },
  {
   "cell_type": "code",
   "execution_count": 1,
   "metadata": {
    "collapsed": true
   },
   "outputs": [],
   "source": [
    "import numpy as np\n",
    "import pandas as pd\n",
    "import matplotlib.pyplot as plt"
   ]
  },
  {
   "cell_type": "code",
   "execution_count": 2,
   "metadata": {
    "collapsed": false
   },
   "outputs": [],
   "source": [
    "data = pd.read_table('./data/a.txt')"
   ]
  },
  {
   "cell_type": "code",
   "execution_count": 3,
   "metadata": {
    "collapsed": false
   },
   "outputs": [
    {
     "data": {
      "text/html": [
       "<div>\n",
       "<table border=\"1\" class=\"dataframe\">\n",
       "  <thead>\n",
       "    <tr style=\"text-align: right;\">\n",
       "      <th></th>\n",
       "      <th>12a1970 lexmark</th>\n",
       "      <th>2 stacker</th>\n",
       "      <th>21 black jack</th>\n",
       "      <th>2nd mortgage</th>\n",
       "      <th>acapulco hotel</th>\n",
       "      <th>accept account card credit merchant</th>\n",
       "      <th>accept card credit</th>\n",
       "      <th>accept card credit online</th>\n",
       "      <th>accessory computer</th>\n",
       "      <th>accessory desk</th>\n",
       "      <th>...</th>\n",
       "      <th>woman</th>\n",
       "      <th>work home</th>\n",
       "      <th>xenadrine</th>\n",
       "      <th>xenical</th>\n",
       "      <th>xenical on line</th>\n",
       "      <th>xxx</th>\n",
       "      <th>yohimbe</th>\n",
       "      <th>yukon</th>\n",
       "      <th>zinc</th>\n",
       "      <th>zyban</th>\n",
       "    </tr>\n",
       "  </thead>\n",
       "  <tbody>\n",
       "    <tr>\n",
       "      <th>0</th>\n",
       "      <td>0</td>\n",
       "      <td>0</td>\n",
       "      <td>0</td>\n",
       "      <td>0</td>\n",
       "      <td>0</td>\n",
       "      <td>0</td>\n",
       "      <td>0</td>\n",
       "      <td>0</td>\n",
       "      <td>0</td>\n",
       "      <td>0</td>\n",
       "      <td>...</td>\n",
       "      <td>0</td>\n",
       "      <td>1</td>\n",
       "      <td>0</td>\n",
       "      <td>0</td>\n",
       "      <td>0</td>\n",
       "      <td>0</td>\n",
       "      <td>0</td>\n",
       "      <td>0</td>\n",
       "      <td>0</td>\n",
       "      <td>0</td>\n",
       "    </tr>\n",
       "    <tr>\n",
       "      <th>1</th>\n",
       "      <td>0</td>\n",
       "      <td>0</td>\n",
       "      <td>0</td>\n",
       "      <td>0</td>\n",
       "      <td>0</td>\n",
       "      <td>0</td>\n",
       "      <td>0</td>\n",
       "      <td>0</td>\n",
       "      <td>0</td>\n",
       "      <td>0</td>\n",
       "      <td>...</td>\n",
       "      <td>0</td>\n",
       "      <td>0</td>\n",
       "      <td>0</td>\n",
       "      <td>0</td>\n",
       "      <td>0</td>\n",
       "      <td>0</td>\n",
       "      <td>0</td>\n",
       "      <td>0</td>\n",
       "      <td>0</td>\n",
       "      <td>0</td>\n",
       "    </tr>\n",
       "    <tr>\n",
       "      <th>2</th>\n",
       "      <td>0</td>\n",
       "      <td>0</td>\n",
       "      <td>0</td>\n",
       "      <td>0</td>\n",
       "      <td>0</td>\n",
       "      <td>0</td>\n",
       "      <td>0</td>\n",
       "      <td>0</td>\n",
       "      <td>0</td>\n",
       "      <td>0</td>\n",
       "      <td>...</td>\n",
       "      <td>0</td>\n",
       "      <td>0</td>\n",
       "      <td>0</td>\n",
       "      <td>0</td>\n",
       "      <td>0</td>\n",
       "      <td>0</td>\n",
       "      <td>0</td>\n",
       "      <td>0</td>\n",
       "      <td>0</td>\n",
       "      <td>0</td>\n",
       "    </tr>\n",
       "    <tr>\n",
       "      <th>3</th>\n",
       "      <td>0</td>\n",
       "      <td>0</td>\n",
       "      <td>0</td>\n",
       "      <td>0</td>\n",
       "      <td>0</td>\n",
       "      <td>0</td>\n",
       "      <td>0</td>\n",
       "      <td>0</td>\n",
       "      <td>0</td>\n",
       "      <td>0</td>\n",
       "      <td>...</td>\n",
       "      <td>0</td>\n",
       "      <td>1</td>\n",
       "      <td>0</td>\n",
       "      <td>0</td>\n",
       "      <td>0</td>\n",
       "      <td>0</td>\n",
       "      <td>0</td>\n",
       "      <td>0</td>\n",
       "      <td>0</td>\n",
       "      <td>0</td>\n",
       "    </tr>\n",
       "    <tr>\n",
       "      <th>4</th>\n",
       "      <td>0</td>\n",
       "      <td>0</td>\n",
       "      <td>0</td>\n",
       "      <td>0</td>\n",
       "      <td>0</td>\n",
       "      <td>0</td>\n",
       "      <td>0</td>\n",
       "      <td>0</td>\n",
       "      <td>0</td>\n",
       "      <td>0</td>\n",
       "      <td>...</td>\n",
       "      <td>0</td>\n",
       "      <td>0</td>\n",
       "      <td>0</td>\n",
       "      <td>0</td>\n",
       "      <td>0</td>\n",
       "      <td>0</td>\n",
       "      <td>0</td>\n",
       "      <td>0</td>\n",
       "      <td>0</td>\n",
       "      <td>0</td>\n",
       "    </tr>\n",
       "  </tbody>\n",
       "</table>\n",
       "<p>5 rows × 3000 columns</p>\n",
       "</div>"
      ],
      "text/plain": [
       "   12a1970 lexmark  2 stacker  21 black jack  2nd mortgage  acapulco hotel  \\\n",
       "0                0          0              0             0               0   \n",
       "1                0          0              0             0               0   \n",
       "2                0          0              0             0               0   \n",
       "3                0          0              0             0               0   \n",
       "4                0          0              0             0               0   \n",
       "\n",
       "   accept account card credit merchant  accept card credit  \\\n",
       "0                                    0                   0   \n",
       "1                                    0                   0   \n",
       "2                                    0                   0   \n",
       "3                                    0                   0   \n",
       "4                                    0                   0   \n",
       "\n",
       "   accept card credit online  accessory computer  accessory desk  ...    \\\n",
       "0                          0                   0               0  ...     \n",
       "1                          0                   0               0  ...     \n",
       "2                          0                   0               0  ...     \n",
       "3                          0                   0               0  ...     \n",
       "4                          0                   0               0  ...     \n",
       "\n",
       "   woman  work home  xenadrine  xenical  xenical on line  xxx  yohimbe  yukon  \\\n",
       "0      0          1          0        0                0    0        0      0   \n",
       "1      0          0          0        0                0    0        0      0   \n",
       "2      0          0          0        0                0    0        0      0   \n",
       "3      0          1          0        0                0    0        0      0   \n",
       "4      0          0          0        0                0    0        0      0   \n",
       "\n",
       "   zinc  zyban  \n",
       "0     0      0  \n",
       "1     0      0  \n",
       "2     0      0  \n",
       "3     0      0  \n",
       "4     0      0  \n",
       "\n",
       "[5 rows x 3000 columns]"
      ]
     },
     "execution_count": 3,
     "metadata": {},
     "output_type": "execute_result"
    }
   ],
   "source": [
    "data.head()"
   ]
  },
  {
   "cell_type": "code",
   "execution_count": 4,
   "metadata": {
    "collapsed": false
   },
   "outputs": [
    {
     "name": "stdout",
     "output_type": "stream",
     "text": [
      "ad banner\n",
      "ad personal\n",
      "add url\n",
      "address internet\n",
      "address web\n",
      "adds personal\n",
      "adipex\n",
      "adipex buy\n",
      "adipex buy online\n",
      "adipex cheap\n",
      "adipex diet\n",
      "adipex diet pill\n",
      "adipex line\n",
      "adipex online\n",
      "adipex online order\n",
      "adipex online prescription\n",
      "adipex order\n",
      "adipex p\n",
      "adipex phentermine\n",
      "adipex prescription\n"
     ]
    }
   ],
   "source": [
    "# Заголовки массива - это конкретные кампании контекстной рекламы, например:\n",
    "\n",
    "for col in data.columns[30:50]:\n",
    "    print(col)"
   ]
  },
  {
   "cell_type": "code",
   "execution_count": 5,
   "metadata": {
    "collapsed": false
   },
   "outputs": [
    {
     "data": {
      "image/png": "[encoded data removed]",
      "text/plain": [
       "<matplotlib.figure.Figure at 0x10faf9c88>"
      ]
     },
     "metadata": {},
     "output_type": "display_data"
    }
   ],
   "source": [
    "# Отдельные кампании построены на небольших словосочетаниях\n",
    "# Не более 6 слов, большинство состоят из 2-3 слов\n",
    "\n",
    "index = np.array(data.columns)\n",
    "max_len = 0\n",
    "index_len = []\n",
    "for ind in index:\n",
    "    ind_len = len(ind.split())\n",
    "    index_len.append(ind_len)\n",
    "    if ind_len > max_len:\n",
    "        max_len = ind_len\n",
    "        \n",
    "plt.hist(index_len, bins=50, orientation='horizontal')\n",
    "plt.show()"
   ]
  },
  {
   "cell_type": "code",
   "execution_count": 6,
   "metadata": {
    "collapsed": false
   },
   "outputs": [
    {
     "data": {
      "image/png": "[encoded data removed]",
      "text/plain": [
       "<matplotlib.figure.Figure at 0x110f3e400>"
      ]
     },
     "metadata": {},
     "output_type": "display_data"
    }
   ],
   "source": [
    "# Общее число кампаний каждого рекламодателя (привожу от 0 до 50 для наглядности).\n",
    "\n",
    "plt.hist(np.sum(data, axis=1), bins=50, range=(0, 50))\n",
    "plt.show()"
   ]
  },
  {
   "cell_type": "code",
   "execution_count": 7,
   "metadata": {
    "collapsed": false
   },
   "outputs": [
    {
     "data": {
      "text/plain": [
       "947"
      ]
     },
     "execution_count": 7,
     "metadata": {},
     "output_type": "execute_result"
    }
   ],
   "source": [
    "# Максимальное число рекламный кампаний одного рекламодателя = 947\n",
    "\n",
    "max(np.sum(data, axis=1))"
   ]
  },
  {
   "cell_type": "code",
   "execution_count": 8,
   "metadata": {
    "collapsed": true
   },
   "outputs": [],
   "source": [
    "def combine_campaings_per_firm_np(dataframe):\n",
    "    prct = 0.0\n",
    "    data = np.array(dataframe)\n",
    "    max_row = data.shape[0]\n",
    "    max_range = data.shape[1]\n",
    "    output = []\n",
    "    for row in range(max_row):\n",
    "        if row%(max_row//10) == 0:\n",
    "            print('{0:.2f}% done'.format(prct))\n",
    "            prct += 10.0\n",
    "        row_summary = []\n",
    "        for col in range(max_range):\n",
    "            if data[row, col] == 1:\n",
    "                row_summary.append(col)\n",
    "        output.append(row_summary)\n",
    "    return output"
   ]
  },
  {
   "cell_type": "code",
   "execution_count": 9,
   "metadata": {
    "collapsed": false
   },
   "outputs": [
    {
     "name": "stdout",
     "output_type": "stream",
     "text": [
      "0.00% done\n",
      "10.00% done\n",
      "20.00% done\n",
      "30.00% done\n",
      "40.00% done\n",
      "50.00% done\n",
      "60.00% done\n",
      "70.00% done\n",
      "80.00% done\n",
      "90.00% done\n",
      "CPU times: user 2.49 s, sys: 49.6 ms, total: 2.54 s\n",
      "Wall time: 2.54 s\n"
     ]
    }
   ],
   "source": [
    "%%time\n",
    "\n",
    "# Конверсия данных в формат SPMF: каждая строка - положительные целые числа,\n",
    "# упорядоченные по ворастанию\n",
    "\n",
    "new_data = combine_campaings_per_firm_np(data)"
   ]
  },
  {
   "cell_type": "code",
   "execution_count": 10,
   "metadata": {
    "collapsed": false
   },
   "outputs": [],
   "source": [
    "# Записываем для работы в SPMF один раз\n",
    "# f = open('./data/SPMF-input-1.txt', mode='w')\n",
    "# for line in new_data:\n",
    "#     f.write(str(line).strip('[]') + '\\n')\n",
    "# f.close()"
   ]
  },
  {
   "cell_type": "code",
   "execution_count": 11,
   "metadata": {
    "collapsed": false
   },
   "outputs": [],
   "source": [
    "# Читаем аутпут из SPMF\n",
    "f = open('./data/SPMF-ouptut-1a.txt', mode='r')\n",
    "result_1a = []\n",
    "lines = f.read().splitlines()\n",
    "for line in lines:\n",
    "    result_1a.append(line)\n",
    "f.close()"
   ]
  },
  {
   "cell_type": "markdown",
   "metadata": {},
   "source": [
    "# Ответ на задание 1-а"
   ]
  },
  {
   "cell_type": "code",
   "execution_count": 12,
   "metadata": {
    "collapsed": false
   },
   "outputs": [
    {
     "data": {
      "text/plain": [
       "17409"
      ]
     },
     "execution_count": 12,
     "metadata": {},
     "output_type": "execute_result"
    }
   ],
   "source": [
    "len(result_1a)"
   ]
  },
  {
   "cell_type": "markdown",
   "metadata": {},
   "source": [
    "<img src = './images/SPMF-result-1a.png'>"
   ]
  },
  {
   "cell_type": "code",
   "execution_count": 13,
   "metadata": {
    "collapsed": false
   },
   "outputs": [],
   "source": [
    "result1a_array = []\n",
    "for entry in result_1a:\n",
    "    if ',:' in entry:\n",
    "        delim = entry.find(',:')\n",
    "        key = entry[:delim]\n",
    "        value = entry[delim + 2:]\n",
    "    else:\n",
    "        delim = entry.find(':')\n",
    "        key = entry[:delim]\n",
    "        value = entry[delim + 1:]\n",
    "    key_len = len(key.split(', '))\n",
    "    entry_list = [str(key), key_len, int(value)]\n",
    "    result1a_array.append(entry_list)"
   ]
  },
  {
   "cell_type": "code",
   "execution_count": 14,
   "metadata": {
    "collapsed": false,
    "scrolled": true
   },
   "outputs": [
    {
     "data": {
      "text/html": [
       "<div>\n",
       "<table border=\"1\" class=\"dataframe\">\n",
       "  <thead>\n",
       "    <tr style=\"text-align: right;\">\n",
       "      <th></th>\n",
       "      <th>key len</th>\n",
       "      <th>minsup</th>\n",
       "    </tr>\n",
       "  </thead>\n",
       "  <tbody>\n",
       "    <tr>\n",
       "      <th>count</th>\n",
       "      <td>17409.000000</td>\n",
       "      <td>17409.000000</td>\n",
       "    </tr>\n",
       "    <tr>\n",
       "      <th>mean</th>\n",
       "      <td>3.912000</td>\n",
       "      <td>39.645011</td>\n",
       "    </tr>\n",
       "    <tr>\n",
       "      <th>std</th>\n",
       "      <td>1.434043</td>\n",
       "      <td>7.213015</td>\n",
       "    </tr>\n",
       "    <tr>\n",
       "      <th>min</th>\n",
       "      <td>1.000000</td>\n",
       "      <td>35.000000</td>\n",
       "    </tr>\n",
       "    <tr>\n",
       "      <th>25%</th>\n",
       "      <td>3.000000</td>\n",
       "      <td>36.000000</td>\n",
       "    </tr>\n",
       "    <tr>\n",
       "      <th>50%</th>\n",
       "      <td>4.000000</td>\n",
       "      <td>37.000000</td>\n",
       "    </tr>\n",
       "    <tr>\n",
       "      <th>75%</th>\n",
       "      <td>5.000000</td>\n",
       "      <td>41.000000</td>\n",
       "    </tr>\n",
       "    <tr>\n",
       "      <th>max</th>\n",
       "      <td>9.000000</td>\n",
       "      <td>159.000000</td>\n",
       "    </tr>\n",
       "  </tbody>\n",
       "</table>\n",
       "</div>"
      ],
      "text/plain": [
       "            key len        minsup\n",
       "count  17409.000000  17409.000000\n",
       "mean       3.912000     39.645011\n",
       "std        1.434043      7.213015\n",
       "min        1.000000     35.000000\n",
       "25%        3.000000     36.000000\n",
       "50%        4.000000     37.000000\n",
       "75%        5.000000     41.000000\n",
       "max        9.000000    159.000000"
      ]
     },
     "execution_count": 14,
     "metadata": {},
     "output_type": "execute_result"
    }
   ],
   "source": [
    "result1a_df = pd.DataFrame(result1a_array, columns=['key', 'key len', 'minsup'])\n",
    "result1a_df.describe()"
   ]
  },
  {
   "cell_type": "code",
   "execution_count": 17,
   "metadata": {
    "collapsed": false
   },
   "outputs": [
    {
     "data": {
      "image/png": "[encoded data removed]",
      "text/plain": [
       "<matplotlib.figure.Figure at 0x10f61af98>"
      ]
     },
     "metadata": {},
     "output_type": "display_data"
    }
   ],
   "source": [
    "plt.hist(result1a_df['key len'], bins=10)\n",
    "plt.show()"
   ]
  }
 ],
 "metadata": {
  "anaconda-cloud": {},
  "kernelspec": {
   "display_name": "Python [conda root]",
   "language": "python",
   "name": "conda-root-py"
  },
  "language_info": {
   "codemirror_mode": {
    "name": "ipython",
    "version": 3
   },
   "file_extension": ".py",
   "mimetype": "text/x-python",
   "name": "python",
   "nbconvert_exporter": "python",
   "pygments_lexer": "ipython3",
   "version": "3.5.2"
  }
 },
 "nbformat": 4,
 "nbformat_minor": 2
}
